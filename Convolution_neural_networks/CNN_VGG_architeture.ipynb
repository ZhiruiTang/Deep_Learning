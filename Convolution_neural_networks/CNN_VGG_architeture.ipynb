{
 "cells": [
  {
   "cell_type": "markdown",
   "id": "18230ab4",
   "metadata": {},
   "source": [
    "In this notebook, we will continue the work from last notebook (CNN_an_small_dataset). The purpose is to speed up the training by using pretrained network. Since the matter of computation, a pretrained network, especially a large-scale image-classification network, can saving a lot of time. If the pretrained network is large enough, which menas the dataset is large enough and general enough, then the spatial hierarchy of features learned by the pretrained network can effectively act as a generic model of the visual world. Hence its features can prove useful for many different computer- vision problems, even though these new problems may involve completely different classes than those of the original task.\n",
    "\n",
    "We will use VGG16 architeture and ImageNet dataset.\n",
    "\n",
    "The methods to use a pretrained network are `feature extraction` and `fine-tuning`."
   ]
  },
  {
   "cell_type": "code",
   "execution_count": 13,
   "id": "84cd5853",
   "metadata": {},
   "outputs": [],
   "source": [
    "from keras import layers\n",
    "from keras import models\n",
    "from keras import optimizers\n",
    "from keras.preprocessing.image import ImageDataGenerator\n",
    "from keras.applications import VGG16\n",
    "import matplotlib.pyplot as plt\n",
    "import os, shutil\n",
    "import cv2\n",
    "import numpy as np"
   ]
  },
  {
   "cell_type": "code",
   "execution_count": 14,
   "id": "19af1003",
   "metadata": {},
   "outputs": [
    {
     "name": "stdout",
     "output_type": "stream",
     "text": [
      "Model: \"vgg16\"\n",
      "_________________________________________________________________\n",
      "Layer (type)                 Output Shape              Param #   \n",
      "=================================================================\n",
      "input_3 (InputLayer)         (None, 150, 150, 3)       0         \n",
      "_________________________________________________________________\n",
      "block1_conv1 (Conv2D)        (None, 150, 150, 64)      1792      \n",
      "_________________________________________________________________\n",
      "block1_conv2 (Conv2D)        (None, 150, 150, 64)      36928     \n",
      "_________________________________________________________________\n",
      "block1_pool (MaxPooling2D)   (None, 75, 75, 64)        0         \n",
      "_________________________________________________________________\n",
      "block2_conv1 (Conv2D)        (None, 75, 75, 128)       73856     \n",
      "_________________________________________________________________\n",
      "block2_conv2 (Conv2D)        (None, 75, 75, 128)       147584    \n",
      "_________________________________________________________________\n",
      "block2_pool (MaxPooling2D)   (None, 37, 37, 128)       0         \n",
      "_________________________________________________________________\n",
      "block3_conv1 (Conv2D)        (None, 37, 37, 256)       295168    \n",
      "_________________________________________________________________\n",
      "block3_conv2 (Conv2D)        (None, 37, 37, 256)       590080    \n",
      "_________________________________________________________________\n",
      "block3_conv3 (Conv2D)        (None, 37, 37, 256)       590080    \n",
      "_________________________________________________________________\n",
      "block3_pool (MaxPooling2D)   (None, 18, 18, 256)       0         \n",
      "_________________________________________________________________\n",
      "block4_conv1 (Conv2D)        (None, 18, 18, 512)       1180160   \n",
      "_________________________________________________________________\n",
      "block4_conv2 (Conv2D)        (None, 18, 18, 512)       2359808   \n",
      "_________________________________________________________________\n",
      "block4_conv3 (Conv2D)        (None, 18, 18, 512)       2359808   \n",
      "_________________________________________________________________\n",
      "block4_pool (MaxPooling2D)   (None, 9, 9, 512)         0         \n",
      "_________________________________________________________________\n",
      "block5_conv1 (Conv2D)        (None, 9, 9, 512)         2359808   \n",
      "_________________________________________________________________\n",
      "block5_conv2 (Conv2D)        (None, 9, 9, 512)         2359808   \n",
      "_________________________________________________________________\n",
      "block5_conv3 (Conv2D)        (None, 9, 9, 512)         2359808   \n",
      "_________________________________________________________________\n",
      "block5_pool (MaxPooling2D)   (None, 4, 4, 512)         0         \n",
      "=================================================================\n",
      "Total params: 14,714,688\n",
      "Trainable params: 14,714,688\n",
      "Non-trainable params: 0\n",
      "_________________________________________________________________\n"
     ]
    }
   ],
   "source": [
    "conv_base = VGG16(weights = 'imagenet', #weight from imagenet\n",
    "                  include_top = False, # whether including the dense layers of  \n",
    "                  input_shape = (150, 150, 3))\n",
    "\n",
    "conv_base.summary()"
   ]
  },
  {
   "cell_type": "markdown",
   "id": "e43588f0",
   "metadata": {},
   "source": [
    "## Feature extraction"
   ]
  },
  {
   "cell_type": "markdown",
   "id": "ff1c485f",
   "metadata": {},
   "source": [
    "There are two optional methods for feature extraction.\n",
    "1. Running the convolutional base over our dataset. \n",
    "   ==> data augmentation is forbbiden\n",
    "2. Adding dense layers after convolutional base (on top).\n",
    "   ==> computation-consuming.\n",
    "\n",
    "Here, we use the first one."
   ]
  },
  {
   "cell_type": "markdown",
   "id": "276afdd9",
   "metadata": {},
   "source": [
    "### Feature extracting"
   ]
  },
  {
   "cell_type": "code",
   "execution_count": 15,
   "id": "1209f6cc",
   "metadata": {},
   "outputs": [
    {
     "name": "stdout",
     "output_type": "stream",
     "text": [
      "Found 2000 images belonging to 2 classes.\n",
      "Found 1000 images belonging to 2 classes.\n",
      "Found 1000 images belonging to 2 classes.\n"
     ]
    }
   ],
   "source": [
    "base_dir = '/Users/zhiruitang/Desktop/Deep_Learning/Jupyter_Code_DL/Convolution_neural_networks/cats_and_dogs_small'\n",
    "\n",
    "train_dir = os.path.join(base_dir, 'train') \n",
    "validation_dir = os.path.join(base_dir, 'validation')\n",
    "test_dir = os.path.join(base_dir, 'test')\n",
    "\n",
    "datagen = ImageDataGenerator(rescale=1./255) \n",
    "batch_size = 20\n",
    "\n",
    "def extract_features(directory, sample_count):\n",
    "    features = np.zeros(shape=(sample_count, 4, 4, 512))\n",
    "    labels = np.zeros(shape=(sample_count))\n",
    "    generator = datagen.flow_from_directory(\n",
    "        directory,\n",
    "        target_size = (150, 150),\n",
    "        batch_size = batch_size,\n",
    "        class_mode = 'binary')\n",
    "    i = 0\n",
    "    for inputs_batch, labels_batch in generator:\n",
    "        features_batch = conv_base.predict(inputs_batch)\n",
    "        features[i * batch_size : (i+1)*batch_size] = features_batch\n",
    "        labels[i * batch_size : (i+1)*batch_size] = labels_batch\n",
    "        i += 1\n",
    "        if i * batch_size >= sample_count:\n",
    "            break\n",
    "    return features, labels\n",
    "\n",
    "train_features, train_labels = extract_features(train_dir, 2000) \n",
    "validation_features, validation_labels = extract_features(validation_dir, 1000) \n",
    "test_features, test_labels = extract_features(test_dir, 1000)\n",
    "\n",
    "#flatten data before feeding into dense layers\n",
    "train_features = np.reshape(train_features, (2000, 4 * 4 * 512)) \n",
    "validation_features = np.reshape(validation_features, (1000, 4 * 4 * 512)) \n",
    "test_features = np.reshape(test_features, (1000, 4 * 4 * 512))"
   ]
  },
  {
   "cell_type": "markdown",
   "id": "b0aced2a",
   "metadata": {},
   "source": [
    "### define model from trained network"
   ]
  },
  {
   "cell_type": "code",
   "execution_count": 16,
   "id": "a4637532",
   "metadata": {},
   "outputs": [
    {
     "name": "stdout",
     "output_type": "stream",
     "text": [
      "Train on 2000 samples, validate on 1000 samples\n",
      "Epoch 1/30\n",
      " - 3s - loss: 0.6094 - acc: 0.6610 - val_loss: 0.4370 - val_acc: 0.8480\n",
      "Epoch 2/30\n",
      " - 2s - loss: 0.4219 - acc: 0.8130 - val_loss: 0.3587 - val_acc: 0.8740\n",
      "Epoch 3/30\n",
      " - 2s - loss: 0.3492 - acc: 0.8655 - val_loss: 0.3216 - val_acc: 0.8790\n",
      "Epoch 4/30\n",
      " - 2s - loss: 0.3128 - acc: 0.8700 - val_loss: 0.3051 - val_acc: 0.8760\n",
      "Epoch 5/30\n",
      " - 2s - loss: 0.2809 - acc: 0.8855 - val_loss: 0.2862 - val_acc: 0.8900\n",
      "Epoch 6/30\n",
      " - 2s - loss: 0.2657 - acc: 0.8945 - val_loss: 0.2729 - val_acc: 0.8900\n",
      "Epoch 7/30\n",
      " - 2s - loss: 0.2459 - acc: 0.9035 - val_loss: 0.2685 - val_acc: 0.8900\n",
      "Epoch 8/30\n",
      " - 2s - loss: 0.2280 - acc: 0.9150 - val_loss: 0.2584 - val_acc: 0.8960\n",
      "Epoch 9/30\n",
      " - 2s - loss: 0.2164 - acc: 0.9210 - val_loss: 0.2561 - val_acc: 0.8940\n",
      "Epoch 10/30\n",
      " - 3s - loss: 0.2038 - acc: 0.9195 - val_loss: 0.2519 - val_acc: 0.9020\n",
      "Epoch 11/30\n",
      " - 2s - loss: 0.1909 - acc: 0.9365 - val_loss: 0.2485 - val_acc: 0.8970\n",
      "Epoch 12/30\n",
      " - 2s - loss: 0.1768 - acc: 0.9350 - val_loss: 0.2466 - val_acc: 0.8980\n",
      "Epoch 13/30\n",
      " - 2s - loss: 0.1774 - acc: 0.9310 - val_loss: 0.2452 - val_acc: 0.9000\n",
      "Epoch 14/30\n",
      " - 2s - loss: 0.1688 - acc: 0.9375 - val_loss: 0.2467 - val_acc: 0.8980\n",
      "Epoch 15/30\n",
      " - 2s - loss: 0.1637 - acc: 0.9420 - val_loss: 0.2399 - val_acc: 0.9000\n",
      "Epoch 16/30\n",
      " - 2s - loss: 0.1531 - acc: 0.9445 - val_loss: 0.2430 - val_acc: 0.8960\n",
      "Epoch 17/30\n",
      " - 2s - loss: 0.1513 - acc: 0.9465 - val_loss: 0.2435 - val_acc: 0.8990\n",
      "Epoch 18/30\n",
      " - 2s - loss: 0.1367 - acc: 0.9550 - val_loss: 0.2419 - val_acc: 0.9000\n",
      "Epoch 19/30\n",
      " - 3s - loss: 0.1329 - acc: 0.9580 - val_loss: 0.2455 - val_acc: 0.8970\n",
      "Epoch 20/30\n",
      " - 2s - loss: 0.1311 - acc: 0.9560 - val_loss: 0.2421 - val_acc: 0.8990\n",
      "Epoch 21/30\n",
      " - 2s - loss: 0.1249 - acc: 0.9575 - val_loss: 0.2598 - val_acc: 0.8900\n",
      "Epoch 22/30\n",
      " - 2s - loss: 0.1135 - acc: 0.9630 - val_loss: 0.2406 - val_acc: 0.9030\n",
      "Epoch 23/30\n",
      " - 3s - loss: 0.1111 - acc: 0.9620 - val_loss: 0.2412 - val_acc: 0.9020\n",
      "Epoch 24/30\n",
      " - 2s - loss: 0.1092 - acc: 0.9655 - val_loss: 0.2403 - val_acc: 0.9000\n",
      "Epoch 25/30\n",
      " - 3s - loss: 0.1050 - acc: 0.9665 - val_loss: 0.2394 - val_acc: 0.8990\n",
      "Epoch 26/30\n",
      " - 3s - loss: 0.0985 - acc: 0.9735 - val_loss: 0.2447 - val_acc: 0.9000\n",
      "Epoch 27/30\n",
      " - 2s - loss: 0.0928 - acc: 0.9695 - val_loss: 0.2414 - val_acc: 0.8980\n",
      "Epoch 28/30\n",
      " - 2s - loss: 0.0926 - acc: 0.9715 - val_loss: 0.2446 - val_acc: 0.8990\n",
      "Epoch 29/30\n",
      " - 3s - loss: 0.0876 - acc: 0.9710 - val_loss: 0.2433 - val_acc: 0.9010\n",
      "Epoch 30/30\n",
      " - 2s - loss: 0.0818 - acc: 0.9755 - val_loss: 0.2598 - val_acc: 0.8950\n"
     ]
    }
   ],
   "source": [
    "model = models.Sequential()\n",
    "model.add(layers.Dense(256, activation='relu', input_dim=4 * 4 * 512)) \n",
    "model.add(layers.Dropout(0.5))\n",
    "model.add(layers.Dense(1, activation='sigmoid'))\n",
    "\n",
    "model.compile(optimizer=optimizers.RMSprop(lr=2e-5), \n",
    "              loss='binary_crossentropy',\n",
    "              metrics=['acc'])\n",
    "\n",
    "history = model.fit(train_features, train_labels, #trained \n",
    "                    epochs=30,\n",
    "                    batch_size=20,\n",
    "                    validation_data=(validation_features, validation_labels),\n",
    "                    verbose=2)\n"
   ]
  },
  {
   "cell_type": "code",
   "execution_count": 17,
   "id": "824d94bb",
   "metadata": {},
   "outputs": [
    {
     "data": {
      "image/png": "[encoded data removed]",
      "text/plain": [
       "<Figure size 432x288 with 1 Axes>"
      ]
     },
     "metadata": {
      "needs_background": "light"
     },
     "output_type": "display_data"
    },
    {
     "data": {
      "image/png": "[encoded data removed]",
      "text/plain": [
       "<Figure size 432x288 with 1 Axes>"
      ]
     },
     "metadata": {
      "needs_background": "light"
     },
     "output_type": "display_data"
    }
   ],
   "source": [
    "acc = history.history['acc']\n",
    "val_acc = history.history['val_acc']\n",
    "loss = history.history['loss']\n",
    "val_loss = history.history['val_loss']\n",
    "\n",
    "epochs = range(1, len(acc)+1)\n",
    "\n",
    "plt.plot(epochs, acc, 'bo', label = 'Training acc')\n",
    "plt.plot(epochs, val_acc, 'b', label = 'Validation acc')\n",
    "plt.title('Training and validation accuracy')\n",
    "plt.legend()\n",
    "\n",
    "plt.figure()\n",
    "\n",
    "plt.plot(epochs, loss, 'bo', label='Training loss') \n",
    "plt.plot(epochs, val_loss, 'b', label='Validation loss') \n",
    "plt.title('Training and validation loss')\n",
    "plt.legend()\n",
    "\n",
    "plt.show()"
   ]
  },
  {
   "cell_type": "markdown",
   "id": "2b831dfe",
   "metadata": {},
   "source": [
    "## Fine-tuning"
   ]
  },
  {
   "cell_type": "code",
   "execution_count": 18,
   "id": "4cfa7bcd",
   "metadata": {},
   "outputs": [],
   "source": [
    "#To be continue"
   ]
  }
 ],
 "metadata": {
  "kernelspec": {
   "display_name": "Python 3 (ipykernel)",
   "language": "python",
   "name": "python3"
  },
  "language_info": {
   "codemirror_mode": {
    "name": "ipython",
    "version": 3
   },
   "file_extension": ".py",
   "mimetype": "text/x-python",
   "name": "python",
   "nbconvert_exporter": "python",
   "pygments_lexer": "ipython3",
   "version": "3.7.9"
  }
 },
 "nbformat": 4,
 "nbformat_minor": 5
}
