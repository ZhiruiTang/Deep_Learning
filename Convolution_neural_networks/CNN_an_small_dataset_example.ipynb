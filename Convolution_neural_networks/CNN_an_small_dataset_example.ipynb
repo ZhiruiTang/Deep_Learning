{
 "cells": [
  {
   "cell_type": "markdown",
   "metadata": {},
   "source": [
    "In this notebook, we use a small data set cats_and_dogs_small from Kaggle to practice CNN model. In terms of the model, 4 convolution layers with 4 maxpool layers are used at first. Then we flatten the output data from last layer, namely the 4-th maxpool layer. For solving the overfitting, we also use a dropout layer before fed into the last 2 dense layers. Another method used to tackling the overfitting in this network is data augmentation which is famous in machine vision."
   ]
  },
  {
   "cell_type": "code",
   "execution_count": 23,
   "metadata": {},
   "outputs": [],
   "source": [
    "from keras import layers\n",
    "from keras import models\n",
    "from keras import optimizers\n",
    "from keras.preprocessing.image import ImageDataGenerator\n",
    "import matplotlib.pyplot as plt\n",
    "import os, shutil\n",
    "import cv2\n",
    "import numpy as np"
   ]
  },
  {
   "cell_type": "markdown",
   "metadata": {},
   "source": [
    "## Preparing data"
   ]
  },
  {
   "cell_type": "code",
   "execution_count": 24,
   "metadata": {},
   "outputs": [
    {
     "name": "stdout",
     "output_type": "stream",
     "text": [
      "#training images of cat 1000\n",
      "#training images of dog 1000\n",
      "#validation images of cat 500\n",
      "#validation images of dog 500\n",
      "#test images of cat 500\n",
      "#test images of dog 500\n",
      "(280, 300, 3)\n"
     ]
    }
   ],
   "source": [
    "base_dir = '/Users/zhiruitang/Desktop/Deep_Learning/Jupyter_Code_DL/Convolution_neural_networks/cats_and_dogs_small'\n",
    "\n",
    "#paths of train, validation, and test data\n",
    "train_dir = os.path.join(base_dir, 'train') \n",
    "validation_dir = os.path.join(base_dir, 'validation')\n",
    "test_dir = os.path.join(base_dir, 'test')\n",
    "\n",
    "train_cats_dir = os.path.join(train_dir, 'cats')\n",
    "train_dogs_dir = os.path.join(train_dir, 'dogs')\n",
    "\n",
    "validation_cats_dir = os.path.join(validation_dir, 'cats')\n",
    "validation_dogs_dir = os.path.join(validation_dir, 'dogs')\n",
    "\n",
    "test_cats_dir = os.path.join(test_dir, 'cats')\n",
    "test_dogs_dir = os.path.join(test_dir, 'dogs')\n",
    "\n",
    "#check how many images in each folder\n",
    "print('#training images of cat', len(os.listdir(train_cats_dir)))\n",
    "print('#training images of dog', len(os.listdir(train_dogs_dir)))\n",
    "print('#validation images of cat', len(os.listdir(validation_cats_dir)))\n",
    "print('#validation images of dog', len(os.listdir(validation_dogs_dir)))\n",
    "print('#test images of cat', len(os.listdir(test_cats_dir)))\n",
    "print('#test images of dog', len(os.listdir(test_dogs_dir)))\n",
    "\n",
    "#Show one of images and print the size of this image\n",
    "img = cv2.imread(train_cats_dir+'/cat.1.jpg')\n",
    "print(img.shape)\n",
    "#cv2.imshow('cat.0.jpg', img)\n",
    "#cv2.waitKey(0)\n"
   ]
  },
  {
   "cell_type": "markdown",
   "metadata": {},
   "source": [
    "## Constructing newtork"
   ]
  },
  {
   "cell_type": "code",
   "execution_count": 25,
   "metadata": {},
   "outputs": [
    {
     "name": "stdout",
     "output_type": "stream",
     "text": [
      "Model: \"sequential_5\"\n",
      "_________________________________________________________________\n",
      "Layer (type)                 Output Shape              Param #   \n",
      "=================================================================\n",
      "conv2d_17 (Conv2D)           (None, 148, 148, 32)      896       \n",
      "_________________________________________________________________\n",
      "max_pooling2d_17 (MaxPooling (None, 74, 74, 32)        0         \n",
      "_________________________________________________________________\n",
      "conv2d_18 (Conv2D)           (None, 72, 72, 64)        18496     \n",
      "_________________________________________________________________\n",
      "max_pooling2d_18 (MaxPooling (None, 36, 36, 64)        0         \n",
      "_________________________________________________________________\n",
      "conv2d_19 (Conv2D)           (None, 34, 34, 128)       73856     \n",
      "_________________________________________________________________\n",
      "max_pooling2d_19 (MaxPooling (None, 17, 17, 128)       0         \n",
      "_________________________________________________________________\n",
      "conv2d_20 (Conv2D)           (None, 15, 15, 128)       147584    \n",
      "_________________________________________________________________\n",
      "max_pooling2d_20 (MaxPooling (None, 7, 7, 128)         0         \n",
      "_________________________________________________________________\n",
      "flatten_5 (Flatten)          (None, 6272)              0         \n",
      "_________________________________________________________________\n",
      "dropout_3 (Dropout)          (None, 6272)              0         \n",
      "_________________________________________________________________\n",
      "dense_9 (Dense)              (None, 512)               3211776   \n",
      "_________________________________________________________________\n",
      "dense_10 (Dense)             (None, 1)                 513       \n",
      "=================================================================\n",
      "Total params: 3,453,121\n",
      "Trainable params: 3,453,121\n",
      "Non-trainable params: 0\n",
      "_________________________________________________________________\n"
     ]
    }
   ],
   "source": [
    "model = models.Sequential()\n",
    "model.add(layers.Conv2D(32, (3,3), activation='relu', input_shape=(150, 150, 3)))\n",
    "model.add(layers.MaxPool2D(2,2))\n",
    "model.add(layers.Conv2D(64, (3,3), activation='relu'))\n",
    "model.add(layers.MaxPool2D(2,2))\n",
    "model.add(layers.Conv2D(128, (3,3), activation='relu'))\n",
    "model.add(layers.MaxPool2D(2,2))\n",
    "model.add(layers.Conv2D(128, (3,3), activation='relu'))\n",
    "model.add(layers.MaxPool2D(2,2))\n",
    "model.add(layers.Flatten())\n",
    "model.add(layers.Dropout(0.5))\n",
    "model.add(layers.Dense(512, activation='relu'))\n",
    "model.add(layers.Dense(1, activation='sigmoid'))\n",
    "\n",
    "model.summary()"
   ]
  },
  {
   "cell_type": "markdown",
   "metadata": {},
   "source": [
    "## Compiling"
   ]
  },
  {
   "cell_type": "code",
   "execution_count": 26,
   "metadata": {},
   "outputs": [],
   "source": [
    "model.compile(loss='binary_crossentropy', \n",
    "              optimizer=optimizers.RMSprop(lr=1e-4), \n",
    "              metrics=['acc'])"
   ]
  },
  {
   "cell_type": "markdown",
   "metadata": {},
   "source": [
    "## Preprocessing data"
   ]
  },
  {
   "cell_type": "code",
   "execution_count": 27,
   "metadata": {},
   "outputs": [
    {
     "name": "stdout",
     "output_type": "stream",
     "text": [
      "Found 2000 images belonging to 2 classes.\n",
      "Found 1000 images belonging to 2 classes.\n",
      "data batch shape: (20, 150, 150, 3)\n",
      "labels batch shape: (20,)\n"
     ]
    }
   ],
   "source": [
    "train_datagen = ImageDataGenerator(\n",
    "    rescale=1./255, #scale the value of pixels into [0,1]\n",
    "    rotation_range = 40, #Augmentation\n",
    "    width_shift_range = 0.2,\n",
    "    height_shift_range = 0.2,\n",
    "    shear_range = 0.2,\n",
    "    horizontal_flip = True) \n",
    "\n",
    "#validation data shouldn’t be augmented\n",
    "test_datagen = ImageDataGenerator(rescale=1./255)\n",
    "\n",
    "train_generator = train_datagen.flow_from_directory(\n",
    "    train_dir, \n",
    "    target_size = (150,150),  #for feeding images, let the size of all images be 150*150\n",
    "    batch_size = 20, \n",
    "    class_mode = 'binary') #binaryentropy is used, so the labels should  be binary\n",
    "\n",
    "validation_generator = test_datagen.flow_from_directory(\n",
    "    validation_dir,\n",
    "    target_size = (150,150),\n",
    "    batch_size = 20,\n",
    "    class_mode = 'binary')\n",
    "\n",
    "#check the data generating from generators\n",
    "for data_batch, labels_batch in train_generator:\n",
    "    print('data batch shape:', data_batch.shape)\n",
    "    print('labels batch shape:', labels_batch.shape)\n",
    "    break"
   ]
  },
  {
   "cell_type": "markdown",
   "metadata": {},
   "source": [
    "## Training \n",
    "\n",
    "We can train mode by `fit()` method, but here data can be trained from generator by method `fit_generator()`"
   ]
  },
  {
   "cell_type": "code",
   "execution_count": 28,
   "metadata": {},
   "outputs": [
    {
     "name": "stdout",
     "output_type": "stream",
     "text": [
      "Epoch 1/30\n",
      "100/100 [==============================] - 41s 413ms/step - loss: 0.6945 - acc: 0.5125 - val_loss: 0.6707 - val_acc: 0.5220\n",
      "Epoch 2/30\n",
      "100/100 [==============================] - 42s 415ms/step - loss: 0.6883 - acc: 0.5315 - val_loss: 0.6991 - val_acc: 0.5500\n",
      "Epoch 3/30\n",
      "100/100 [==============================] - 42s 422ms/step - loss: 0.6670 - acc: 0.5870 - val_loss: 0.6698 - val_acc: 0.5450\n",
      "Epoch 4/30\n",
      "100/100 [==============================] - 42s 420ms/step - loss: 0.6583 - acc: 0.6005 - val_loss: 0.6026 - val_acc: 0.6410\n",
      "Epoch 5/30\n",
      "100/100 [==============================] - 42s 419ms/step - loss: 0.6390 - acc: 0.6330 - val_loss: 0.7792 - val_acc: 0.6380\n",
      "Epoch 6/30\n",
      "100/100 [==============================] - 42s 421ms/step - loss: 0.6237 - acc: 0.6475 - val_loss: 0.7150 - val_acc: 0.6600\n",
      "Epoch 7/30\n",
      "100/100 [==============================] - 42s 423ms/step - loss: 0.5999 - acc: 0.6645 - val_loss: 0.6035 - val_acc: 0.6560\n",
      "Epoch 8/30\n",
      "100/100 [==============================] - 42s 423ms/step - loss: 0.6013 - acc: 0.6705 - val_loss: 0.7716 - val_acc: 0.6510\n",
      "Epoch 9/30\n",
      "100/100 [==============================] - 42s 424ms/step - loss: 0.6029 - acc: 0.6520 - val_loss: 0.5709 - val_acc: 0.6810\n",
      "Epoch 10/30\n",
      "100/100 [==============================] - 42s 423ms/step - loss: 0.5928 - acc: 0.6780 - val_loss: 0.5157 - val_acc: 0.6960\n",
      "Epoch 11/30\n",
      "100/100 [==============================] - 48s 485ms/step - loss: 0.5922 - acc: 0.6830 - val_loss: 0.4269 - val_acc: 0.6870\n",
      "Epoch 12/30\n",
      "100/100 [==============================] - 570s 6s/step - loss: 0.5878 - acc: 0.6895 - val_loss: 0.6011 - val_acc: 0.6210\n",
      "Epoch 13/30\n",
      "100/100 [==============================] - 42s 416ms/step - loss: 0.5797 - acc: 0.6995 - val_loss: 0.5754 - val_acc: 0.7240\n",
      "Epoch 14/30\n",
      "100/100 [==============================] - 44s 438ms/step - loss: 0.5645 - acc: 0.6955 - val_loss: 0.7412 - val_acc: 0.7120\n",
      "Epoch 15/30\n",
      "100/100 [==============================] - 43s 428ms/step - loss: 0.5687 - acc: 0.6940 - val_loss: 0.6213 - val_acc: 0.6840\n",
      "Epoch 16/30\n",
      "100/100 [==============================] - 42s 424ms/step - loss: 0.5499 - acc: 0.7090 - val_loss: 0.4186 - val_acc: 0.7280\n",
      "Epoch 17/30\n",
      "100/100 [==============================] - 42s 422ms/step - loss: 0.5612 - acc: 0.7130 - val_loss: 0.5108 - val_acc: 0.7120\n",
      "Epoch 18/30\n",
      "100/100 [==============================] - 42s 425ms/step - loss: 0.5591 - acc: 0.7100 - val_loss: 0.6419 - val_acc: 0.7130\n",
      "Epoch 19/30\n",
      "100/100 [==============================] - 43s 430ms/step - loss: 0.5458 - acc: 0.7125 - val_loss: 0.6609 - val_acc: 0.7130\n",
      "Epoch 20/30\n",
      "100/100 [==============================] - 43s 428ms/step - loss: 0.5416 - acc: 0.7135 - val_loss: 0.5191 - val_acc: 0.7310\n",
      "Epoch 21/30\n",
      "100/100 [==============================] - 44s 436ms/step - loss: 0.5518 - acc: 0.7175 - val_loss: 0.5655 - val_acc: 0.7330\n",
      "Epoch 22/30\n",
      "100/100 [==============================] - 44s 442ms/step - loss: 0.5355 - acc: 0.7360 - val_loss: 0.4876 - val_acc: 0.7470\n",
      "Epoch 23/30\n",
      "100/100 [==============================] - 44s 435ms/step - loss: 0.5299 - acc: 0.7295 - val_loss: 0.4774 - val_acc: 0.7440\n",
      "Epoch 24/30\n",
      "100/100 [==============================] - 43s 428ms/step - loss: 0.5191 - acc: 0.7360 - val_loss: 0.7593 - val_acc: 0.7460\n",
      "Epoch 25/30\n",
      "100/100 [==============================] - 43s 429ms/step - loss: 0.5280 - acc: 0.7370 - val_loss: 0.7014 - val_acc: 0.7630\n",
      "Epoch 26/30\n",
      "100/100 [==============================] - 44s 436ms/step - loss: 0.5091 - acc: 0.7615 - val_loss: 0.4731 - val_acc: 0.7460\n",
      "Epoch 27/30\n",
      "100/100 [==============================] - 43s 429ms/step - loss: 0.5151 - acc: 0.7305 - val_loss: 0.5792 - val_acc: 0.7590\n",
      "Epoch 28/30\n",
      "100/100 [==============================] - 43s 428ms/step - loss: 0.5311 - acc: 0.7335 - val_loss: 0.5378 - val_acc: 0.7580\n",
      "Epoch 29/30\n",
      "100/100 [==============================] - 42s 424ms/step - loss: 0.5152 - acc: 0.7440 - val_loss: 0.2695 - val_acc: 0.7630\n",
      "Epoch 30/30\n",
      "100/100 [==============================] - 43s 426ms/step - loss: 0.5102 - acc: 0.7445 - val_loss: 0.3820 - val_acc: 0.7190\n"
     ]
    }
   ],
   "source": [
    "history = model.fit_generator(\n",
    "    train_generator,\n",
    "    steps_per_epoch = 100,\n",
    "    epochs = 30,\n",
    "    validation_data = validation_generator,\n",
    "    validation_steps = 50)\n",
    "\n",
    "#save model after training\n",
    "model.save('cats_and_dogs_small_1.h5')"
   ]
  },
  {
   "cell_type": "markdown",
   "metadata": {},
   "source": [
    "## Ploting curves of loss and acc. "
   ]
  },
  {
   "cell_type": "code",
   "execution_count": 29,
   "metadata": {},
   "outputs": [
    {
     "data": {
      "image/png": "[encoded data removed]",
      "text/plain": [
       "<Figure size 432x288 with 1 Axes>"
      ]
     },
     "metadata": {
      "needs_background": "light"
     },
     "output_type": "display_data"
    },
    {
     "data": {
      "image/png": "[encoded data removed]",
      "text/plain": [
       "<Figure size 432x288 with 1 Axes>"
      ]
     },
     "metadata": {
      "needs_background": "light"
     },
     "output_type": "display_data"
    }
   ],
   "source": [
    "acc = history.history['acc']\n",
    "val_acc = history.history['val_acc']\n",
    "loss = history.history['loss']\n",
    "val_loss = history.history['val_loss']\n",
    "\n",
    "epochs = range(1, len(acc)+1)\n",
    "\n",
    "plt.plot(epochs, acc, 'bo', label = 'Training acc')\n",
    "plt.plot(epochs, val_acc, 'b', label = 'Validation acc')\n",
    "plt.title('Training and validation accuracy')\n",
    "plt.legend()\n",
    "\n",
    "plt.figure()\n",
    "\n",
    "plt.plot(epochs, loss, 'bo', label='Training loss') \n",
    "plt.plot(epochs, val_loss, 'b', label='Validation loss') \n",
    "plt.title('Training and validation loss')\n",
    "plt.legend()\n",
    "\n",
    "plt.show()"
   ]
  },
  {
   "cell_type": "code",
   "execution_count": null,
   "metadata": {},
   "outputs": [],
   "source": []
  }
 ],
 "metadata": {
  "kernelspec": {
   "display_name": "Python 3 (ipykernel)",
   "language": "python",
   "name": "python3"
  },
  "language_info": {
   "codemirror_mode": {
    "name": "ipython",
    "version": 3
   },
   "file_extension": ".py",
   "mimetype": "text/x-python",
   "name": "python",
   "nbconvert_exporter": "python",
   "pygments_lexer": "ipython3",
   "version": "3.7.9"
  }
 },
 "nbformat": 4,
 "nbformat_minor": 4
}
